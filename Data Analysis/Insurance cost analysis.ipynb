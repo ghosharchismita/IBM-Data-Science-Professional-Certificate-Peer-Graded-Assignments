{
  "cells": [
    {
      "cell_type": "markdown",
      "metadata": {},
      "source": [
        "<p style=\"text-align:center\">\n",
        "    <a href=\"https://skills.network\" target=\"_blank\">\n",
        "    <img src=\"https://cf-courses-data.s3.us.cloud-object-storage.appdomain.cloud/assets/logos/SN_web_lightmode.png\" width=\"300\" alt=\"Skills Network Logo\">\n",
        "    </a>\n",
        "</p>\n"
      ]
    },
    {
      "cell_type": "markdown",
      "metadata": {},
      "source": [
        "# **Practice Project: Insurance Cost Analysis**\n",
        "\n",
        "Estimated time needed: **75** minutes\n",
        "\n",
        "In this project, you have to perform analytics operations on an insurance database that uses the below mentioned parameters.\n",
        "\n",
        "| Parameter |Description| Content type |\n",
        "|---|----|---|\n",
        "|age| Age in years| integer |\n",
        "|gender| Male or Female|integer (1 or 2)|\n",
        "| bmi | Body mass index | float |\n",
        "|no_of_children| Number of children | integer|\n",
        "|smoker| Whether smoker or not | integer (0 or 1)|\n",
        "|region| Which US region - NW, NE, SW, SE | integer (1,2,3 or 4 respectively)| \n",
        "|charges| Annual Insurance charges in USD | float|\n",
        "\n",
        "## Objectives \n",
        "In this project, you will:\n",
        " - Load the data as a `pandas` dataframe\n",
        " - Clean the data, taking care of the blank entries\n",
        " - Run exploratory data analysis (EDA) and identify the attributes that most affect the `charges`\n",
        " - Develop single variable and multi variable Linear Regression models for predicting the `charges`\n",
        " - Use Ridge regression to refine the performance of Linear regression models. \n",
        " \n"
      ]
    },
    {
      "cell_type": "markdown",
      "metadata": {},
      "source": [
        "# Setup\n"
      ]
    },
    {
      "cell_type": "markdown",
      "metadata": {},
      "source": [
        "For this lab, we will be using the following libraries:\n",
        "* `skillsnetwork` to download the data\n",
        "*   [`pandas`](https://pandas.pydata.org/?utm_medium=Exinfluencer&utm_source=Exinfluencer&utm_content=000026UJ&utm_term=10006555&utm_id=NA-SkillsNetwork-Channel-SkillsNetworkCoursesIBMML0187ENSkillsNetwork31430127-2021-01-01) for managing the data.\n",
        "*   [`numpy`](https://numpy.org/?utm_medium=Exinfluencer&utm_source=Exinfluencer&utm_content=000026UJ&utm_term=10006555&utm_id=NA-SkillsNetwork-Channel-SkillsNetworkCoursesIBMML0187ENSkillsNetwork31430127-2021-01-01) for mathematical operations.\n",
        "*   [`sklearn`](https://scikit-learn.org/stable/?utm_medium=Exinfluencer&utm_source=Exinfluencer&utm_content=000026UJ&utm_term=10006555&utm_id=NA-SkillsNetwork-Channel-SkillsNetworkCoursesIBMML0187ENSkillsNetwork31430127-2021-01-01) for machine learning and machine-learning-pipeline related functions.\n",
        "*   [`seaborn`](https://seaborn.pydata.org/?utm_medium=Exinfluencer&utm_source=Exinfluencer&utm_content=000026UJ&utm_term=10006555&utm_id=NA-SkillsNetwork-Channel-SkillsNetworkCoursesIBMML0187ENSkillsNetwork31430127-2021-01-01) for visualizing the data.\n",
        "*   [`matplotlib`](https://matplotlib.org/?utm_medium=Exinfluencer&utm_source=Exinfluencer&utm_content=000026UJ&utm_term=10006555&utm_id=NA-SkillsNetwork-Channel-SkillsNetworkCoursesIBMML0187ENSkillsNetwork31430127-2021-01-01) for additional plotting tools.\n"
      ]
    },
    {
      "cell_type": "markdown",
      "metadata": {},
      "source": [
        "The following required libraries are __not__ pre-installed in the Skills Network Labs environment. __You will need to run the following cell__ to install them:\n"
      ]
    },
    {
      "cell_type": "markdown",
      "metadata": {},
      "source": [
        "### Importing Required Libraries\n",
        "\n",
        "_We recommend you import all required libraries in one place (here):_\n"
      ]
    },
    {
      "cell_type": "code",
      "execution_count": 1,
      "metadata": {
        "trusted": true
      },
      "outputs": [],
      "source": [
        "import pandas as pd\n",
        "import matplotlib.pyplot as plt\n",
        "import numpy as np\n",
        "import seaborn as sns\n",
        "from sklearn.pipeline import Pipeline\n",
        "from sklearn.preprocessing import StandardScaler, PolynomialFeatures\n",
        "from sklearn.linear_model import LinearRegression, Ridge\n",
        "from sklearn.metrics import mean_squared_error, r2_score\n",
        "from sklearn.model_selection import cross_val_score, train_test_split"
      ]
    },
    {
      "cell_type": "markdown",
      "metadata": {},
      "source": [
        "### Download the dataset to this lab environment\n",
        "\n",
        "Run the cell below to load the dataset to this lab environment.\n"
      ]
    },
    {
      "cell_type": "code",
      "execution_count": 2,
      "metadata": {
        "trusted": true
      },
      "outputs": [],
      "source": [
        "filepath = 'https://cf-courses-data.s3.us.cloud-object-storage.appdomain.cloud/IBMDeveloperSkillsNetwork-DA0101EN-Coursera/medical_insurance_dataset.csv'"
      ]
    },
    {
      "cell_type": "code",
      "execution_count": 3,
      "metadata": {
        "trusted": true
      },
      "outputs": [
        {
          "data": {
            "text/html": [
              "<div>\n",
              "<style scoped>\n",
              "    .dataframe tbody tr th:only-of-type {\n",
              "        vertical-align: middle;\n",
              "    }\n",
              "\n",
              "    .dataframe tbody tr th {\n",
              "        vertical-align: top;\n",
              "    }\n",
              "\n",
              "    .dataframe thead th {\n",
              "        text-align: right;\n",
              "    }\n",
              "</style>\n",
              "<table border=\"1\" class=\"dataframe\">\n",
              "  <thead>\n",
              "    <tr style=\"text-align: right;\">\n",
              "      <th></th>\n",
              "      <th>0</th>\n",
              "      <th>1</th>\n",
              "      <th>2</th>\n",
              "      <th>3</th>\n",
              "      <th>4</th>\n",
              "      <th>5</th>\n",
              "      <th>6</th>\n",
              "    </tr>\n",
              "  </thead>\n",
              "  <tbody>\n",
              "    <tr>\n",
              "      <th>0</th>\n",
              "      <td>19</td>\n",
              "      <td>1</td>\n",
              "      <td>27.900</td>\n",
              "      <td>0</td>\n",
              "      <td>1</td>\n",
              "      <td>3</td>\n",
              "      <td>16884.92400</td>\n",
              "    </tr>\n",
              "    <tr>\n",
              "      <th>1</th>\n",
              "      <td>18</td>\n",
              "      <td>2</td>\n",
              "      <td>33.770</td>\n",
              "      <td>1</td>\n",
              "      <td>0</td>\n",
              "      <td>4</td>\n",
              "      <td>1725.55230</td>\n",
              "    </tr>\n",
              "    <tr>\n",
              "      <th>2</th>\n",
              "      <td>28</td>\n",
              "      <td>2</td>\n",
              "      <td>33.000</td>\n",
              "      <td>3</td>\n",
              "      <td>0</td>\n",
              "      <td>4</td>\n",
              "      <td>4449.46200</td>\n",
              "    </tr>\n",
              "    <tr>\n",
              "      <th>3</th>\n",
              "      <td>33</td>\n",
              "      <td>2</td>\n",
              "      <td>22.705</td>\n",
              "      <td>0</td>\n",
              "      <td>0</td>\n",
              "      <td>1</td>\n",
              "      <td>21984.47061</td>\n",
              "    </tr>\n",
              "    <tr>\n",
              "      <th>4</th>\n",
              "      <td>32</td>\n",
              "      <td>2</td>\n",
              "      <td>28.880</td>\n",
              "      <td>0</td>\n",
              "      <td>0</td>\n",
              "      <td>1</td>\n",
              "      <td>3866.85520</td>\n",
              "    </tr>\n",
              "    <tr>\n",
              "      <th>5</th>\n",
              "      <td>31</td>\n",
              "      <td>1</td>\n",
              "      <td>25.740</td>\n",
              "      <td>0</td>\n",
              "      <td>?</td>\n",
              "      <td>4</td>\n",
              "      <td>3756.62160</td>\n",
              "    </tr>\n",
              "    <tr>\n",
              "      <th>6</th>\n",
              "      <td>46</td>\n",
              "      <td>1</td>\n",
              "      <td>33.440</td>\n",
              "      <td>1</td>\n",
              "      <td>0</td>\n",
              "      <td>4</td>\n",
              "      <td>8240.58960</td>\n",
              "    </tr>\n",
              "    <tr>\n",
              "      <th>7</th>\n",
              "      <td>37</td>\n",
              "      <td>1</td>\n",
              "      <td>27.740</td>\n",
              "      <td>3</td>\n",
              "      <td>0</td>\n",
              "      <td>1</td>\n",
              "      <td>7281.50560</td>\n",
              "    </tr>\n",
              "    <tr>\n",
              "      <th>8</th>\n",
              "      <td>37</td>\n",
              "      <td>2</td>\n",
              "      <td>29.830</td>\n",
              "      <td>2</td>\n",
              "      <td>0</td>\n",
              "      <td>2</td>\n",
              "      <td>6406.41070</td>\n",
              "    </tr>\n",
              "    <tr>\n",
              "      <th>9</th>\n",
              "      <td>60</td>\n",
              "      <td>1</td>\n",
              "      <td>25.840</td>\n",
              "      <td>0</td>\n",
              "      <td>0</td>\n",
              "      <td>1</td>\n",
              "      <td>28923.13692</td>\n",
              "    </tr>\n",
              "  </tbody>\n",
              "</table>\n",
              "</div>"
            ],
            "text/plain": [
              "    0  1       2  3  4  5            6\n",
              "0  19  1  27.900  0  1  3  16884.92400\n",
              "1  18  2  33.770  1  0  4   1725.55230\n",
              "2  28  2  33.000  3  0  4   4449.46200\n",
              "3  33  2  22.705  0  0  1  21984.47061\n",
              "4  32  2  28.880  0  0  1   3866.85520\n",
              "5  31  1  25.740  0  ?  4   3756.62160\n",
              "6  46  1  33.440  1  0  4   8240.58960\n",
              "7  37  1  27.740  3  0  1   7281.50560\n",
              "8  37  2  29.830  2  0  2   6406.41070\n",
              "9  60  1  25.840  0  0  1  28923.13692"
            ]
          },
          "execution_count": 3,
          "metadata": {},
          "output_type": "execute_result"
        }
      ],
      "source": [
        "df = pd.read_csv(filepath, header=None)\n",
        "df.head(10)"
      ]
    },
    {
      "cell_type": "markdown",
      "metadata": {},
      "source": [
        "# Task 1 : Import the dataset\n",
        "\n",
        "Import the dataset into a `pandas` dataframe. Note that there are currently no headers in the CSV file. \n",
        "\n",
        "Print the first 10 rows of the dataframe to confirm successful loading.\n"
      ]
    },
    {
      "cell_type": "code",
      "execution_count": 4,
      "metadata": {
        "trusted": true
      },
      "outputs": [
        {
          "data": {
            "text/html": [
              "<div>\n",
              "<style scoped>\n",
              "    .dataframe tbody tr th:only-of-type {\n",
              "        vertical-align: middle;\n",
              "    }\n",
              "\n",
              "    .dataframe tbody tr th {\n",
              "        vertical-align: top;\n",
              "    }\n",
              "\n",
              "    .dataframe thead th {\n",
              "        text-align: right;\n",
              "    }\n",
              "</style>\n",
              "<table border=\"1\" class=\"dataframe\">\n",
              "  <thead>\n",
              "    <tr style=\"text-align: right;\">\n",
              "      <th></th>\n",
              "      <th>0</th>\n",
              "      <th>1</th>\n",
              "      <th>2</th>\n",
              "      <th>3</th>\n",
              "      <th>4</th>\n",
              "      <th>5</th>\n",
              "      <th>6</th>\n",
              "    </tr>\n",
              "  </thead>\n",
              "  <tbody>\n",
              "    <tr>\n",
              "      <th>0</th>\n",
              "      <td>19</td>\n",
              "      <td>1</td>\n",
              "      <td>27.900</td>\n",
              "      <td>0</td>\n",
              "      <td>1</td>\n",
              "      <td>3</td>\n",
              "      <td>16884.92400</td>\n",
              "    </tr>\n",
              "    <tr>\n",
              "      <th>1</th>\n",
              "      <td>18</td>\n",
              "      <td>2</td>\n",
              "      <td>33.770</td>\n",
              "      <td>1</td>\n",
              "      <td>0</td>\n",
              "      <td>4</td>\n",
              "      <td>1725.55230</td>\n",
              "    </tr>\n",
              "    <tr>\n",
              "      <th>2</th>\n",
              "      <td>28</td>\n",
              "      <td>2</td>\n",
              "      <td>33.000</td>\n",
              "      <td>3</td>\n",
              "      <td>0</td>\n",
              "      <td>4</td>\n",
              "      <td>4449.46200</td>\n",
              "    </tr>\n",
              "    <tr>\n",
              "      <th>3</th>\n",
              "      <td>33</td>\n",
              "      <td>2</td>\n",
              "      <td>22.705</td>\n",
              "      <td>0</td>\n",
              "      <td>0</td>\n",
              "      <td>1</td>\n",
              "      <td>21984.47061</td>\n",
              "    </tr>\n",
              "    <tr>\n",
              "      <th>4</th>\n",
              "      <td>32</td>\n",
              "      <td>2</td>\n",
              "      <td>28.880</td>\n",
              "      <td>0</td>\n",
              "      <td>0</td>\n",
              "      <td>1</td>\n",
              "      <td>3866.85520</td>\n",
              "    </tr>\n",
              "    <tr>\n",
              "      <th>5</th>\n",
              "      <td>31</td>\n",
              "      <td>1</td>\n",
              "      <td>25.740</td>\n",
              "      <td>0</td>\n",
              "      <td>?</td>\n",
              "      <td>4</td>\n",
              "      <td>3756.62160</td>\n",
              "    </tr>\n",
              "    <tr>\n",
              "      <th>6</th>\n",
              "      <td>46</td>\n",
              "      <td>1</td>\n",
              "      <td>33.440</td>\n",
              "      <td>1</td>\n",
              "      <td>0</td>\n",
              "      <td>4</td>\n",
              "      <td>8240.58960</td>\n",
              "    </tr>\n",
              "    <tr>\n",
              "      <th>7</th>\n",
              "      <td>37</td>\n",
              "      <td>1</td>\n",
              "      <td>27.740</td>\n",
              "      <td>3</td>\n",
              "      <td>0</td>\n",
              "      <td>1</td>\n",
              "      <td>7281.50560</td>\n",
              "    </tr>\n",
              "    <tr>\n",
              "      <th>8</th>\n",
              "      <td>37</td>\n",
              "      <td>2</td>\n",
              "      <td>29.830</td>\n",
              "      <td>2</td>\n",
              "      <td>0</td>\n",
              "      <td>2</td>\n",
              "      <td>6406.41070</td>\n",
              "    </tr>\n",
              "    <tr>\n",
              "      <th>9</th>\n",
              "      <td>60</td>\n",
              "      <td>1</td>\n",
              "      <td>25.840</td>\n",
              "      <td>0</td>\n",
              "      <td>0</td>\n",
              "      <td>1</td>\n",
              "      <td>28923.13692</td>\n",
              "    </tr>\n",
              "  </tbody>\n",
              "</table>\n",
              "</div>"
            ],
            "text/plain": [
              "    0  1       2  3  4  5            6\n",
              "0  19  1  27.900  0  1  3  16884.92400\n",
              "1  18  2  33.770  1  0  4   1725.55230\n",
              "2  28  2  33.000  3  0  4   4449.46200\n",
              "3  33  2  22.705  0  0  1  21984.47061\n",
              "4  32  2  28.880  0  0  1   3866.85520\n",
              "5  31  1  25.740  0  ?  4   3756.62160\n",
              "6  46  1  33.440  1  0  4   8240.58960\n",
              "7  37  1  27.740  3  0  1   7281.50560\n",
              "8  37  2  29.830  2  0  2   6406.41070\n",
              "9  60  1  25.840  0  0  1  28923.13692"
            ]
          },
          "execution_count": 4,
          "metadata": {},
          "output_type": "execute_result"
        }
      ],
      "source": [
        "df.head(10)"
      ]
    },
    {
      "cell_type": "markdown",
      "metadata": {},
      "source": [
        "Add the headers to the dataframe, as mentioned in the project scenario. \n"
      ]
    },
    {
      "cell_type": "code",
      "execution_count": 5,
      "metadata": {
        "trusted": true
      },
      "outputs": [
        {
          "data": {
            "text/html": [
              "<div>\n",
              "<style scoped>\n",
              "    .dataframe tbody tr th:only-of-type {\n",
              "        vertical-align: middle;\n",
              "    }\n",
              "\n",
              "    .dataframe tbody tr th {\n",
              "        vertical-align: top;\n",
              "    }\n",
              "\n",
              "    .dataframe thead th {\n",
              "        text-align: right;\n",
              "    }\n",
              "</style>\n",
              "<table border=\"1\" class=\"dataframe\">\n",
              "  <thead>\n",
              "    <tr style=\"text-align: right;\">\n",
              "      <th></th>\n",
              "      <th>age</th>\n",
              "      <th>gender</th>\n",
              "      <th>bmi</th>\n",
              "      <th>no_of_children</th>\n",
              "      <th>smoker</th>\n",
              "      <th>region</th>\n",
              "      <th>charges</th>\n",
              "    </tr>\n",
              "  </thead>\n",
              "  <tbody>\n",
              "    <tr>\n",
              "      <th>0</th>\n",
              "      <td>19</td>\n",
              "      <td>1</td>\n",
              "      <td>27.900</td>\n",
              "      <td>0</td>\n",
              "      <td>1</td>\n",
              "      <td>3</td>\n",
              "      <td>16884.92400</td>\n",
              "    </tr>\n",
              "    <tr>\n",
              "      <th>1</th>\n",
              "      <td>18</td>\n",
              "      <td>2</td>\n",
              "      <td>33.770</td>\n",
              "      <td>1</td>\n",
              "      <td>0</td>\n",
              "      <td>4</td>\n",
              "      <td>1725.55230</td>\n",
              "    </tr>\n",
              "    <tr>\n",
              "      <th>2</th>\n",
              "      <td>28</td>\n",
              "      <td>2</td>\n",
              "      <td>33.000</td>\n",
              "      <td>3</td>\n",
              "      <td>0</td>\n",
              "      <td>4</td>\n",
              "      <td>4449.46200</td>\n",
              "    </tr>\n",
              "    <tr>\n",
              "      <th>3</th>\n",
              "      <td>33</td>\n",
              "      <td>2</td>\n",
              "      <td>22.705</td>\n",
              "      <td>0</td>\n",
              "      <td>0</td>\n",
              "      <td>1</td>\n",
              "      <td>21984.47061</td>\n",
              "    </tr>\n",
              "    <tr>\n",
              "      <th>4</th>\n",
              "      <td>32</td>\n",
              "      <td>2</td>\n",
              "      <td>28.880</td>\n",
              "      <td>0</td>\n",
              "      <td>0</td>\n",
              "      <td>1</td>\n",
              "      <td>3866.85520</td>\n",
              "    </tr>\n",
              "  </tbody>\n",
              "</table>\n",
              "</div>"
            ],
            "text/plain": [
              "  age  gender     bmi  no_of_children smoker  region      charges\n",
              "0  19       1  27.900               0      1       3  16884.92400\n",
              "1  18       2  33.770               1      0       4   1725.55230\n",
              "2  28       2  33.000               3      0       4   4449.46200\n",
              "3  33       2  22.705               0      0       1  21984.47061\n",
              "4  32       2  28.880               0      0       1   3866.85520"
            ]
          },
          "execution_count": 5,
          "metadata": {},
          "output_type": "execute_result"
        }
      ],
      "source": [
        "headers = [\"age\", \"gender\", \"bmi\", \"no_of_children\", \"smoker\", \"region\", \"charges\"]\n",
        "df.columns = headers\n",
        "\n",
        "df.head()"
      ]
    },
    {
      "cell_type": "markdown",
      "metadata": {},
      "source": [
        "Now, replace the '?' entries with 'NaN' values.\n"
      ]
    },
    {
      "cell_type": "code",
      "execution_count": 6,
      "metadata": {
        "trusted": true
      },
      "outputs": [],
      "source": [
        "df.replace ('?', np.nan, inplace = True)"
      ]
    },
    {
      "cell_type": "markdown",
      "metadata": {},
      "source": [
        "# Task 2 : Data Wrangling\n"
      ]
    },
    {
      "cell_type": "markdown",
      "metadata": {},
      "source": [
        "Use `dataframe.info()` to identify the columns that have some 'Null' (or NaN) information.\n"
      ]
    },
    {
      "cell_type": "code",
      "execution_count": 7,
      "metadata": {
        "trusted": true
      },
      "outputs": [
        {
          "name": "stdout",
          "output_type": "stream",
          "text": [
            "<class 'pandas.core.frame.DataFrame'>\n",
            "RangeIndex: 2772 entries, 0 to 2771\n",
            "Data columns (total 7 columns):\n",
            " #   Column          Non-Null Count  Dtype  \n",
            "---  ------          --------------  -----  \n",
            " 0   age             2768 non-null   object \n",
            " 1   gender          2772 non-null   int64  \n",
            " 2   bmi             2772 non-null   float64\n",
            " 3   no_of_children  2772 non-null   int64  \n",
            " 4   smoker          2765 non-null   object \n",
            " 5   region          2772 non-null   int64  \n",
            " 6   charges         2772 non-null   float64\n",
            "dtypes: float64(2), int64(3), object(2)\n",
            "memory usage: 151.7+ KB\n"
          ]
        }
      ],
      "source": [
        "df.info()"
      ]
    },
    {
      "cell_type": "code",
      "execution_count": 8,
      "metadata": {},
      "outputs": [
        {
          "data": {
            "text/plain": [
              "age               4\n",
              "gender            0\n",
              "bmi               0\n",
              "no_of_children    0\n",
              "smoker            7\n",
              "region            0\n",
              "charges           0\n",
              "dtype: int64"
            ]
          },
          "execution_count": 8,
          "metadata": {},
          "output_type": "execute_result"
        }
      ],
      "source": [
        "df.isnull().sum()"
      ]
    },
    {
      "cell_type": "markdown",
      "metadata": {},
      "source": [
        "Handle missing data:\n",
        "\n",
        "- For continuous attributes (e.g., age), replace missing values with the mean.\n",
        "- For categorical attributes (e.g., smoker), replace missing values with the most frequent value.\n",
        "- Update the data types of the respective columns.\n",
        "- Verify the update using `df.info()`.\n"
      ]
    },
    {
      "cell_type": "code",
      "execution_count": 11,
      "metadata": {
        "trusted": true
      },
      "outputs": [
        {
          "name": "stderr",
          "output_type": "stream",
          "text": [
            "C:\\Users\\HP\\AppData\\Local\\Temp\\ipykernel_10344\\4107487665.py:5: FutureWarning: A value is trying to be set on a copy of a DataFrame or Series through chained assignment using an inplace method.\n",
            "The behavior will change in pandas 3.0. This inplace method will never work because the intermediate object on which we are setting values always behaves as a copy.\n",
            "\n",
            "For example, when doing 'df[col].method(value, inplace=True)', try using 'df.method({col: value}, inplace=True)' or df[col] = df[col].method(value) instead, to perform the operation inplace on the original object.\n",
            "\n",
            "\n",
            "  df['age'].replace(np.nan, mean_age, inplace = True)\n",
            "C:\\Users\\HP\\AppData\\Local\\Temp\\ipykernel_10344\\4107487665.py:9: FutureWarning: A value is trying to be set on a copy of a DataFrame or Series through chained assignment using an inplace method.\n",
            "The behavior will change in pandas 3.0. This inplace method will never work because the intermediate object on which we are setting values always behaves as a copy.\n",
            "\n",
            "For example, when doing 'df[col].method(value, inplace=True)', try using 'df.method({col: value}, inplace=True)' or df[col] = df[col].method(value) instead, to perform the operation inplace on the original object.\n",
            "\n",
            "\n",
            "  df['smoker'].replace(np.nan, is_smoker, inplace = True)\n"
          ]
        },
        {
          "data": {
            "text/plain": [
              "age               0\n",
              "gender            0\n",
              "bmi               0\n",
              "no_of_children    0\n",
              "smoker            0\n",
              "region            0\n",
              "charges           0\n",
              "dtype: int64"
            ]
          },
          "execution_count": 11,
          "metadata": {},
          "output_type": "execute_result"
        }
      ],
      "source": [
        "# Handle missing data -> from the above info, we see that 'age' and 'smoker' are the two columns with missing values\n",
        "\n",
        "# age is a continuous parameter, so replace missing values with the mean value of the entries in this column\n",
        "mean_age = df['age'].astype('float').mean(axis = 0)\n",
        "df['age'].replace(np.nan, mean_age, inplace = True)\n",
        "\n",
        "# smoker is a categorical paramter, so we can replace the missing values with the most frequent entry here\n",
        "is_smoker = df['smoker'].value_counts().idxmax() # most frequent\n",
        "df['smoker'].replace(np.nan, is_smoker, inplace = True)\n",
        "\n",
        "# update the data types of 'age' and 'smoker'\n",
        "df[['age', 'smoker']] = df[['age', 'smoker']].astype('int')\n",
        "\n",
        "# verifying the update\n",
        "df.isnull().sum()"
      ]
    },
    {
      "cell_type": "markdown",
      "metadata": {},
      "source": [
        "Also note, that the `charges` column has values which are more than 2 decimal places long. Update the `charges` column such that all values are rounded to nearest 2 decimal places. Verify conversion by printing the first 5 values of the updated dataframe.\n"
      ]
    },
    {
      "cell_type": "code",
      "execution_count": 12,
      "metadata": {
        "trusted": true
      },
      "outputs": [
        {
          "data": {
            "text/html": [
              "<div>\n",
              "<style scoped>\n",
              "    .dataframe tbody tr th:only-of-type {\n",
              "        vertical-align: middle;\n",
              "    }\n",
              "\n",
              "    .dataframe tbody tr th {\n",
              "        vertical-align: top;\n",
              "    }\n",
              "\n",
              "    .dataframe thead th {\n",
              "        text-align: right;\n",
              "    }\n",
              "</style>\n",
              "<table border=\"1\" class=\"dataframe\">\n",
              "  <thead>\n",
              "    <tr style=\"text-align: right;\">\n",
              "      <th></th>\n",
              "      <th>age</th>\n",
              "      <th>gender</th>\n",
              "      <th>bmi</th>\n",
              "      <th>no_of_children</th>\n",
              "      <th>smoker</th>\n",
              "      <th>region</th>\n",
              "      <th>charges</th>\n",
              "    </tr>\n",
              "  </thead>\n",
              "  <tbody>\n",
              "    <tr>\n",
              "      <th>0</th>\n",
              "      <td>19</td>\n",
              "      <td>1</td>\n",
              "      <td>27.900</td>\n",
              "      <td>0</td>\n",
              "      <td>1</td>\n",
              "      <td>3</td>\n",
              "      <td>16884.92</td>\n",
              "    </tr>\n",
              "    <tr>\n",
              "      <th>1</th>\n",
              "      <td>18</td>\n",
              "      <td>2</td>\n",
              "      <td>33.770</td>\n",
              "      <td>1</td>\n",
              "      <td>0</td>\n",
              "      <td>4</td>\n",
              "      <td>1725.55</td>\n",
              "    </tr>\n",
              "    <tr>\n",
              "      <th>2</th>\n",
              "      <td>28</td>\n",
              "      <td>2</td>\n",
              "      <td>33.000</td>\n",
              "      <td>3</td>\n",
              "      <td>0</td>\n",
              "      <td>4</td>\n",
              "      <td>4449.46</td>\n",
              "    </tr>\n",
              "    <tr>\n",
              "      <th>3</th>\n",
              "      <td>33</td>\n",
              "      <td>2</td>\n",
              "      <td>22.705</td>\n",
              "      <td>0</td>\n",
              "      <td>0</td>\n",
              "      <td>1</td>\n",
              "      <td>21984.47</td>\n",
              "    </tr>\n",
              "    <tr>\n",
              "      <th>4</th>\n",
              "      <td>32</td>\n",
              "      <td>2</td>\n",
              "      <td>28.880</td>\n",
              "      <td>0</td>\n",
              "      <td>0</td>\n",
              "      <td>1</td>\n",
              "      <td>3866.86</td>\n",
              "    </tr>\n",
              "  </tbody>\n",
              "</table>\n",
              "</div>"
            ],
            "text/plain": [
              "   age  gender     bmi  no_of_children  smoker  region   charges\n",
              "0   19       1  27.900               0       1       3  16884.92\n",
              "1   18       2  33.770               1       0       4   1725.55\n",
              "2   28       2  33.000               3       0       4   4449.46\n",
              "3   33       2  22.705               0       0       1  21984.47\n",
              "4   32       2  28.880               0       0       1   3866.86"
            ]
          },
          "execution_count": 12,
          "metadata": {},
          "output_type": "execute_result"
        }
      ],
      "source": [
        "# reducing the no. of places after decimal in 'charges' to 2 decimal places\n",
        "df['charges'] = np.round(df['charges'], 2)\n",
        "df.head()"
      ]
    },
    {
      "cell_type": "markdown",
      "metadata": {},
      "source": [
        "# Task 3 : Exploratory Data Analysis (EDA)\n",
        "\n",
        "Implement the regression plot for `charges` with respect to `bmi`. \n"
      ]
    },
    {
      "cell_type": "code",
      "execution_count": 13,
      "metadata": {
        "trusted": true
      },
      "outputs": [
        {
          "data": {
            "text/plain": [
              "(0.0, 66902.85800000001)"
            ]
          },
          "execution_count": 13,
          "metadata": {},
          "output_type": "execute_result"
        },
        {
          "data": {
            "image/png": "[encoded data removed]",
            "text/plain": [
              "<Figure size 640x480 with 1 Axes>"
            ]
          },
          "metadata": {},
          "output_type": "display_data"
        }
      ],
      "source": [
        "# Create regression plot of 'charges' v/s 'bmi' to compare these two continuous variables and analyze their relationship\n",
        "sns.regplot(x = 'bmi', y = 'charges', data = df, line_kws = {'color' : 'red'})\n",
        "plt.ylim(0,) # The lower limit of the plot in y-axis is 0"
      ]
    },
    {
      "cell_type": "markdown",
      "metadata": {},
      "source": [
        "Implement the box plot for `charges` with respect to `smoker`.\n"
      ]
    },
    {
      "cell_type": "code",
      "execution_count": 14,
      "metadata": {
        "trusted": true
      },
      "outputs": [
        {
          "data": {
            "text/plain": [
              "<Axes: xlabel='smoker', ylabel='charges'>"
            ]
          },
          "execution_count": 14,
          "metadata": {},
          "output_type": "execute_result"
        },
        {
          "data": {
            "image/png": "[encoded data removed]",
            "text/plain": [
              "<Figure size 640x480 with 1 Axes>"
            ]
          },
          "metadata": {},
          "output_type": "display_data"
        }
      ],
      "source": [
        "# Create boxplot of charges v/s smoker to compare distribution of continuos variable 'charges' wrt categorical variable 'smoker'\n",
        "sns.boxplot(x = 'smoker', y = 'charges', data = df)"
      ]
    },
    {
      "cell_type": "markdown",
      "metadata": {},
      "source": [
        "Print the correlation matrix for the dataset.\n"
      ]
    },
    {
      "cell_type": "code",
      "execution_count": 15,
      "metadata": {
        "trusted": true
      },
      "outputs": [
        {
          "data": {
            "text/html": [
              "<div>\n",
              "<style scoped>\n",
              "    .dataframe tbody tr th:only-of-type {\n",
              "        vertical-align: middle;\n",
              "    }\n",
              "\n",
              "    .dataframe tbody tr th {\n",
              "        vertical-align: top;\n",
              "    }\n",
              "\n",
              "    .dataframe thead th {\n",
              "        text-align: right;\n",
              "    }\n",
              "</style>\n",
              "<table border=\"1\" class=\"dataframe\">\n",
              "  <thead>\n",
              "    <tr style=\"text-align: right;\">\n",
              "      <th></th>\n",
              "      <th>age</th>\n",
              "      <th>gender</th>\n",
              "      <th>bmi</th>\n",
              "      <th>no_of_children</th>\n",
              "      <th>smoker</th>\n",
              "      <th>region</th>\n",
              "      <th>charges</th>\n",
              "    </tr>\n",
              "  </thead>\n",
              "  <tbody>\n",
              "    <tr>\n",
              "      <th>age</th>\n",
              "      <td>1.000000</td>\n",
              "      <td>-0.026046</td>\n",
              "      <td>0.113048</td>\n",
              "      <td>0.037574</td>\n",
              "      <td>-0.023286</td>\n",
              "      <td>-0.007167</td>\n",
              "      <td>0.298624</td>\n",
              "    </tr>\n",
              "    <tr>\n",
              "      <th>gender</th>\n",
              "      <td>-0.026046</td>\n",
              "      <td>1.000000</td>\n",
              "      <td>0.042924</td>\n",
              "      <td>0.016020</td>\n",
              "      <td>0.082326</td>\n",
              "      <td>0.022213</td>\n",
              "      <td>0.062837</td>\n",
              "    </tr>\n",
              "    <tr>\n",
              "      <th>bmi</th>\n",
              "      <td>0.113048</td>\n",
              "      <td>0.042924</td>\n",
              "      <td>1.000000</td>\n",
              "      <td>-0.001492</td>\n",
              "      <td>0.011489</td>\n",
              "      <td>0.271119</td>\n",
              "      <td>0.199846</td>\n",
              "    </tr>\n",
              "    <tr>\n",
              "      <th>no_of_children</th>\n",
              "      <td>0.037574</td>\n",
              "      <td>0.016020</td>\n",
              "      <td>-0.001492</td>\n",
              "      <td>1.000000</td>\n",
              "      <td>0.006362</td>\n",
              "      <td>-0.025717</td>\n",
              "      <td>0.066442</td>\n",
              "    </tr>\n",
              "    <tr>\n",
              "      <th>smoker</th>\n",
              "      <td>-0.023286</td>\n",
              "      <td>0.082326</td>\n",
              "      <td>0.011489</td>\n",
              "      <td>0.006362</td>\n",
              "      <td>1.000000</td>\n",
              "      <td>0.054077</td>\n",
              "      <td>0.788783</td>\n",
              "    </tr>\n",
              "    <tr>\n",
              "      <th>region</th>\n",
              "      <td>-0.007167</td>\n",
              "      <td>0.022213</td>\n",
              "      <td>0.271119</td>\n",
              "      <td>-0.025717</td>\n",
              "      <td>0.054077</td>\n",
              "      <td>1.000000</td>\n",
              "      <td>0.054058</td>\n",
              "    </tr>\n",
              "    <tr>\n",
              "      <th>charges</th>\n",
              "      <td>0.298624</td>\n",
              "      <td>0.062837</td>\n",
              "      <td>0.199846</td>\n",
              "      <td>0.066442</td>\n",
              "      <td>0.788783</td>\n",
              "      <td>0.054058</td>\n",
              "      <td>1.000000</td>\n",
              "    </tr>\n",
              "  </tbody>\n",
              "</table>\n",
              "</div>"
            ],
            "text/plain": [
              "                     age    gender       bmi  no_of_children    smoker  \\\n",
              "age             1.000000 -0.026046  0.113048        0.037574 -0.023286   \n",
              "gender         -0.026046  1.000000  0.042924        0.016020  0.082326   \n",
              "bmi             0.113048  0.042924  1.000000       -0.001492  0.011489   \n",
              "no_of_children  0.037574  0.016020 -0.001492        1.000000  0.006362   \n",
              "smoker         -0.023286  0.082326  0.011489        0.006362  1.000000   \n",
              "region         -0.007167  0.022213  0.271119       -0.025717  0.054077   \n",
              "charges         0.298624  0.062837  0.199846        0.066442  0.788783   \n",
              "\n",
              "                  region   charges  \n",
              "age            -0.007167  0.298624  \n",
              "gender          0.022213  0.062837  \n",
              "bmi             0.271119  0.199846  \n",
              "no_of_children -0.025717  0.066442  \n",
              "smoker          0.054077  0.788783  \n",
              "region          1.000000  0.054058  \n",
              "charges         0.054058  1.000000  "
            ]
          },
          "execution_count": 15,
          "metadata": {},
          "output_type": "execute_result"
        }
      ],
      "source": [
        "df.corr()"
      ]
    },
    {
      "cell_type": "markdown",
      "metadata": {},
      "source": [
        "# Task 4 : Model Development\n",
        "\n",
        "Fit a linear regression model that may be used to predict the `charges` value, just by using the `smoker` attribute of the dataset. Print the $ R^2 $ score of this model.\n"
      ]
    },
    {
      "cell_type": "code",
      "execution_count": 16,
      "metadata": {
        "trusted": true
      },
      "outputs": [
        {
          "name": "stdout",
          "output_type": "stream",
          "text": [
            "0.6221791733924185\n"
          ]
        }
      ],
      "source": [
        "x = df[['smoker']] # select 'smoker' column and reshape into a dataframe with 1 column\n",
        "y = df[['charges']] # select 'charges' column and reshape into a dataframe with 1 column\n",
        "\n",
        "# Create the linear regression model\n",
        "lm = LinearRegression()\n",
        "lm.fit(x, y) # fit the model to the data\n",
        "\n",
        "# calculate R^2 to indicate how well 'smoker' explain the variance of 'charges'\n",
        "print(lm.score(x, y))"
      ]
    },
    {
      "cell_type": "markdown",
      "metadata": {},
      "source": [
        "Fit a linear regression model that may be used to predict the `charges` value, just by using all other attributes of the dataset. Print the $ R^2 $ score of this model. You should see an improvement in the performance.\n"
      ]
    },
    {
      "cell_type": "code",
      "execution_count": 17,
      "metadata": {
        "trusted": true
      },
      "outputs": [
        {
          "name": "stdout",
          "output_type": "stream",
          "text": [
            "0.7504083820289634\n"
          ]
        }
      ],
      "source": [
        "z = df[['age', 'gender', 'bmi', 'no_of_children', 'smoker', 'region']] # select multiple columns from df to create a new dataframe z\n",
        "lm.fit(z, y) # fit the model to the new set of features z\n",
        "print(lm.score(z, y)) # calculate R^2 of the model which indicates how well the different features effect the variance of 'charges'"
      ]
    },
    {
      "cell_type": "markdown",
      "metadata": {},
      "source": [
        "Create a training pipeline that uses `StandardScaler()`, `PolynomialFeatures()` and `LinearRegression()` to create a model that can predict the `charges` value using all the other attributes of the dataset. There should be even further improvement in the performance.\n"
      ]
    },
    {
      "cell_type": "code",
      "execution_count": 18,
      "metadata": {
        "trusted": true
      },
      "outputs": [
        {
          "name": "stdout",
          "output_type": "stream",
          "text": [
            "0.8452515297015821\n"
          ]
        }
      ],
      "source": [
        "# create a list of tuples with the steps in the pipeline\n",
        "# ('scale', StandardScaler()) -> normalizes the data for regression\n",
        "# ('polynomial', PolynomialFeatures(include_bias = False)) -> generates polynomial features from the original features, include_bias = False excludes the intercept(bias) term\n",
        "# ('model', LinearRegression()) -> creates the linear regression model and is the final step in the pipeline\n",
        "\n",
        "Input = [('scale', StandardScaler()), ('polynomial', PolynomialFeatures(include_bias = False)), ('model', LinearRegression())]\n",
        "\n",
        "# create a pipeline object using the steps above\n",
        "pipe = Pipeline(Input)\n",
        "\n",
        "# Fit the pipeline to the data\n",
        "pipe.fit(z, y)\n",
        "\n",
        "# generate predictions based on input data z using the pipeline fiited with the data\n",
        "ypipe = pipe.predict(z)\n",
        "\n",
        "# Calculate the R^2 score which measures how well the predictions ypipe match the target value y\n",
        "print(r2_score(y, ypipe))"
      ]
    },
    {
      "cell_type": "markdown",
      "metadata": {},
      "source": [
        "# Task 5 : Model Refinement\n",
        "\n",
        "Split the data into training and testing subsets, assuming that 20% of the data will be reserved for testing.\n"
      ]
    },
    {
      "cell_type": "code",
      "execution_count": 19,
      "metadata": {
        "trusted": true
      },
      "outputs": [],
      "source": [
        "# x_train -> features for training set\n",
        "# x_test -> features for testing set\n",
        "# y_train -> target values for training set\n",
        "# y_test -> target values for testing set\n",
        "x_train, x_test, y_train, y_test = train_test_split(z, y, test_size = 0.2, random_state = 1)"
      ]
    },
    {
      "cell_type": "markdown",
      "metadata": {},
      "source": [
        "Initialize a Ridge regressor that used hyperparameter $ \\alpha = 0.1 $. Fit the model using training data data subset. Print the $ R^2 $ score for the testing data.\n"
      ]
    },
    {
      "cell_type": "code",
      "execution_count": 20,
      "metadata": {
        "trusted": true
      },
      "outputs": [
        {
          "name": "stdout",
          "output_type": "stream",
          "text": [
            "0.6760807731582404\n"
          ]
        }
      ],
      "source": [
        "# Implement ridge regression\n",
        "RidgeModel = Ridge(alpha = 0.1)\n",
        "RidgeModel.fit(x_train, y_train) # fit the model to the training data \n",
        "yhat = RidgeModel.predict(x_test) # make predictions on the test set\n",
        "print(r2_score(y_test, yhat)) # calculate r^2 score"
      ]
    },
    {
      "cell_type": "markdown",
      "metadata": {},
      "source": [
        "Apply polynomial transformation to the training parameters with degree=2. Use this transformed feature set to fit the same regression model, as above, using the training subset. Print the $ R^2 $ score for the testing subset.\n"
      ]
    },
    {
      "cell_type": "code",
      "execution_count": 21,
      "metadata": {
        "trusted": true
      },
      "outputs": [
        {
          "name": "stdout",
          "output_type": "stream",
          "text": [
            "0.7835631107608146\n"
          ]
        }
      ],
      "source": [
        "pr = PolynomialFeatures(degree = 2) # generate polynomial features upto second degree\n",
        "# fit_transform combines fitting and transforming in one step\n",
        "# fit the polynomial feature transformer to the training data (x_train) and transform it, creating a new feature set (x_train_pr)\n",
        "x_train_pr = pr.fit_transform(x_train)  \n",
        "# fit the polynomial feature transformer to the testing data (x_test) and transform it, creating a new feature set (x_test_pr)\n",
        "x_test_pr = pr.fit_transform(x_test)\n",
        "# Fit the ridge regression model to the transformed training data and the target variable\n",
        "RidgeModel.fit(x_train_pr, y_train)\n",
        "y_hat = RidgeModel.predict(x_test_pr) # make predictions on the transformed test data\n",
        "print(r2_score(y_test, y_hat)) # calculate the r^2 score"
      ]
    },
    {
      "cell_type": "markdown",
      "metadata": {},
      "source": [
        "# Congratulations! You have completed this project\n"
      ]
    },
    {
      "cell_type": "markdown",
      "metadata": {},
      "source": [
        "## Authors\n"
      ]
    },
    {
      "cell_type": "markdown",
      "metadata": {},
      "source": [
        "[Abhishek Gagneja](https://www.coursera.org/instructor/~129186572)\n",
        "\n",
        "[Vicky Kuo](https://author.skills.network/instructors/vicky_kuo)\n"
      ]
    },
    {
      "cell_type": "markdown",
      "metadata": {},
      "source": [
        "<h3> Copyright © 2023 IBM Corporation. All rights reserved. </h3>\n"
      ]
    },
    {
      "cell_type": "markdown",
      "metadata": {},
      "source": [
        "<!--## Change Log\n"
      ]
    },
    {
      "cell_type": "markdown",
      "metadata": {},
      "source": [
        "<!--|Date (YYYY-MM-DD)|Version|Changed By|Change Description|\n",
        "|-|-|-|-|\n",
        "|2023-09-16|0.1|Abhishek Gagneja|Initial Version Created|\n",
        "|2023-09-19|0.2|Vicky Kuo|Reviewed and Revised|\n",
        "--!>\n"
      ]
    }
  ],
  "metadata": {
    "kernelspec": {
      "display_name": "Python 3",
      "language": "python",
      "name": "python3"
    },
    "language_info": {
      "codemirror_mode": {
        "name": "ipython",
        "version": 3
      },
      "file_extension": ".py",
      "mimetype": "text/x-python",
      "name": "python",
      "nbconvert_exporter": "python",
      "pygments_lexer": "ipython3",
      "version": "3.12.1"
    },
    "prev_pub_hash": "f92c35cfb4afc2090bcbf16fdf9fff0c4ad711be8aa2d4c10bfbf54a54e7148a"
  },
  "nbformat": 4,
  "nbformat_minor": 4
}
